{
 "cells": [
  {
   "cell_type": "markdown",
   "metadata": {},
   "source": [
    "## Problem 1"
   ]
  },
  {
   "cell_type": "markdown",
   "metadata": {},
   "source": [
    "Explain what makes HIV unique. What are the consequences of this? What is AIDS?"
   ]
  },
  {
   "cell_type": "markdown",
   "metadata": {},
   "source": [
    "Viruses inject their genes into living cells, force the cells to replicate their genes, and then lyse them (tear them apart. The immune system has a T cells that recognize invaders and destroy previous infected cells. HIVis unique because it targets these T cells. The consequence is that this causes Acquired Immune Deficiency Syndrome (AIDS). AIDS is not an infection, it comes from the lack of T cells, and makes the body more susceptible to common infections."
   ]
  },
  {
   "cell_type": "markdown",
   "metadata": {},
   "source": [
    "## Problem 2"
   ]
  },
  {
   "cell_type": "markdown",
   "metadata": {},
   "source": [
    "How is AIDS treated and what are the considerations for treatment?"
   ]
  },
  {
   "cell_type": "markdown",
   "metadata": {},
   "source": [
    "AIDS has no vaccine or cure, but it is treated by trying to strengthen the immune system by increasing the number of T cells there are in the body. However, since this is expensive or have negative side effects, other considerations include trying to optimize the amount of drugs use."
   ]
  },
  {
   "cell_type": "markdown",
   "metadata": {},
   "source": [
    "## Problem 3"
   ]
  },
  {
   "cell_type": "code",
   "execution_count": 71,
   "metadata": {
    "collapsed": false
   },
   "outputs": [],
   "source": [
    "# Dependencies for this lab✬s code:\n",
    "import numpy as np\n",
    "from matplotlib import pyplot as plt\n",
    "from __future__ import division\n",
    "%matplotlib inline\n",
    "\n",
    "#Code from RK4 Lab with minor edits\n",
    "def initialize_all(y0, t0, t, n):\n",
    "    \"\"\" An initialization routine for the different ODE solving\n",
    "    methods in the lab. This initializes Y, T, and h. \"\"\"\n",
    "    if isinstance(y0, np.ndarray):\n",
    "        Y = np.empty((n, y0.size)).squeeze()\n",
    "    else:\n",
    "        Y = np.empty(n)\n",
    "    Y[0] = y0\n",
    "    T = np.linspace(t0, t, n)\n",
    "    h = float(t - t0) / (n - 1)\n",
    "    return Y, T, h\n",
    "\n",
    "def RK4(f, y0, t0, t, n):\n",
    "    \"\"\" Use the RK4 method to compute an approximate solution\n",
    "    to the ODE y✬ = f(t, y) at n equispaced parameter values from t0 to t\n",
    "    with initial conditions y(t0) = y0.\n",
    "    y0 is assumed to be either a constant or a one-dimensional numpy array.\n",
    "    t and t0 are assumed to be constants.\n",
    "    f is assumed to accept three arguments.\n",
    "    The first is a constant giving the value of t.\n",
    "    The second is a one-dimensional numpy array of the same size as y.\n",
    "    The third is an index to the other arrays.\n",
    "    This function returns an array Y of shape (n,) if\n",
    "    y is a constant or an array of size 1.\n",
    "    It returns an array of shape (n, y.size) otherwise.\n",
    "    In either case, Y[i] is the approximate value of y at\n",
    "    the i✬th value of np.linspace(t0, t, n).\n",
    "    \"\"\"\n",
    "    Y,T,h = initialize_all(y0,t0,t,n)\n",
    "    for i in xrange(n-1):\n",
    "        K1 = f(T[i],Y[i],i)\n",
    "        K2 = f(T[i]+h/2.,Y[i]+h/2.*K1,i)\n",
    "        K3 = f(T[i]+h/2.,Y[i]+h/2.*K2,i)\n",
    "        K4 = f(T[i+1],Y[i]+h*K3,i)\n",
    "        Y[i+1] = Y[i] + h/6.*(K1+2*K2 +2*K3+K4)\n",
    "    return Y"
   ]
  },
  {
   "cell_type": "code",
   "execution_count": 72,
   "metadata": {
    "collapsed": true
   },
   "outputs": [],
   "source": [
    "a_1, a_2 = 0, 0\n",
    "b_1, b_2 = 0.02, 0.9\n",
    "s_1, s_2 = 2., 1.5\n",
    "mu = 0.002\n",
    "k = 0.000025\n",
    "g = 30.\n",
    "c = 0.007\n",
    "B_1, B_2 = 14, 1\n",
    "A_1, A_2 = 250000, 75\n",
    "T0, V0 = 400, 3\n",
    "t_f = 50\n",
    "n = 1000\n"
   ]
  },
  {
   "cell_type": "code",
   "execution_count": 73,
   "metadata": {
    "collapsed": false
   },
   "outputs": [],
   "source": [
    "# initialize global variables, state, costate, and u.\n",
    "state = np.zeros((n,2))\n",
    "state0 = np.array([T0, V0])\n",
    "\n",
    "costate = np.zeros((n,2))\n",
    "costate0 = np.zeros(2)\n",
    "\n",
    "u=np.zeros((n,2))\n",
    "u[:,0] += .02\n",
    "u[:,1] += .9\n",
    "\n",
    "# define state equations\n",
    "def state_equations(t,y,i):\n",
    "    '''\n",
    "    Parameters\n",
    "    ---------------\n",
    "    t : float\n",
    "    the time\n",
    "    y : ndarray (2,)\n",
    "    the T cell concentration and the Virus concentration at time t\n",
    "    i : int\n",
    "    index for the global variable u.\n",
    "    Returns\n",
    "    --------------\n",
    "    y_dot : ndarray (2,)\n",
    "    the derivative of the T cell concentration and the virus ←-\n",
    "    concentration at time t\n",
    "    '''\n",
    "    #y[1] = V, y[0] = T, lam1 = costate[i, 0], lam2 = costate[i, 1]\n",
    "    t_dot = s_1 - (s_1*y[1])/(B_1 + y[1]) - mu*y[0] - k*y[1]*y[0] + np.minimum(np.maximum(a_1, costate[i, 0]*y[0]*-1/(2*A_1)), b_1) * y[0]\n",
    "    v_dot = ((g*(1 - np.minimum(np.maximum(a_2, (costate[i, 1]/(2*A_2) ) * (g*y[1])/(B_2 + y[1]) ), b_2))*y[1]) / (B_2 + y[1])) - c*y[1]*y[0]\n",
    "    return np.array([t_dot, v_dot])"
   ]
  },
  {
   "cell_type": "markdown",
   "metadata": {},
   "source": [
    "## Problem 4"
   ]
  },
  {
   "cell_type": "code",
   "execution_count": 74,
   "metadata": {
    "collapsed": true
   },
   "outputs": [],
   "source": [
    "def lambda_hat(t,y,i):\n",
    "    '''\n",
    "    Parameters\n",
    "    ---------------\n",
    "    t : float\n",
    "    the time\n",
    "    y : ndarray (2,)\n",
    "    the lambda_hat values at time t\n",
    "    i : int\n",
    "    index for global variables, u and state.\n",
    "    Returns\n",
    "    --------------\n",
    "    y_dot : ndarray (2,)\n",
    "    the derivative of the lambda_hats at time t.\n",
    "    '''\n",
    "    #y[0] = lam1, y[1] = lam2, V = state[i, 1], T = state[i, 0]\n",
    "    #u1 = u[i, 0], u2 = u[i, 1] \n",
    "    lam_dot1 = y[0]*(-mu - k*state[-i, 1] + u[-i, 0]) - c*y[1]*state[-i, 1] - 1\n",
    "    lam_dot2 = -y[0]*( ( (s_2*B_1)/(B_1 + state[-i, 1] )**2) + k*state[-i, 0] ) + y[1]*( ( (g*B_2*(1-u[-i, 1] ) )/(B_2 + state[-i, 1] )**2 ) - c*state[-i, 0] )\n",
    "    return np.array([lam_dot1, lam_dot2])"
   ]
  },
  {
   "cell_type": "markdown",
   "metadata": {},
   "source": [
    "## Problem 5"
   ]
  },
  {
   "cell_type": "code",
   "execution_count": 75,
   "metadata": {
    "collapsed": false
   },
   "outputs": [
    {
     "data": {
      "image/png": "[encoded data removed]",
      "text/plain": [
       "<matplotlib.figure.Figure at 0x8f91e80>"
      ]
     },
     "metadata": {},
     "output_type": "display_data"
    },
    {
     "data": {
      "image/png": "[encoded data removed]",
      "text/plain": [
       "<matplotlib.figure.Figure at 0x9217ac8>"
      ]
     },
     "metadata": {},
     "output_type": "display_data"
    },
    {
     "data": {
      "image/png": "[encoded data removed]",
      "text/plain": [
       "<matplotlib.figure.Figure at 0x85a2438>"
      ]
     },
     "metadata": {},
     "output_type": "display_data"
    },
    {
     "data": {
      "image/png": "[encoded data removed]",
      "text/plain": [
       "<matplotlib.figure.Figure at 0x9231f60>"
      ]
     },
     "metadata": {},
     "output_type": "display_data"
    }
   ],
   "source": [
    "epsilon = 0.001\n",
    "test = epsilon + 1\n",
    "\n",
    "while(test > epsilon):\n",
    "    oldu = u.copy();\n",
    "    \n",
    "    #solve the state equations with forward iteration\n",
    "    #state = RK4(...)\n",
    "    state = RK4(state_equations, state0, 0, t_f, n)\n",
    "    \n",
    "    #solve the costate equations with backwards iteration\n",
    "    #costate = RK4(...)[::-1]\n",
    "    costate = RK4(lambda_hat, costate0, 0, t_f, n)[::-1]\n",
    "    \n",
    "    \n",
    "    #solve for u1 and u2\n",
    "    u1 = np.minimum(np.maximum(a_1, ( (-1)/(2*A_1) )* costate[:, 0]*state[:, 0] ), b_1)\n",
    "    u2 = np.minimum(np.maximum(a_2, ((g*state[:, 1])/(B_2 + state[:, 1]))*(costate[:, 1]/(2*A_2))), b_2)\n",
    "    \n",
    "    #update control\n",
    "    u[:,0] = 0.5*(u1 + oldu[:,0])\n",
    "    u[:,1] = 0.5*(u2 + oldu[:,1])\n",
    "    \n",
    "    #test for convergence\n",
    "    test = abs(oldu - u).sum()\n",
    "\n",
    "plt.plot(np.linspace(0, t_f, n), state[:, 0])\n",
    "plt.show()\n",
    "plt.plot(np.linspace(0, t_f, n), state[:, 1])\n",
    "plt.show()\n",
    "plt.plot(np.linspace(0, t_f, n), u[:, 0])\n",
    "plt.show()\n",
    "plt.plot(np.linspace(0, t_f, n), u[:, 1])\n",
    "plt.show()"
   ]
  },
  {
   "cell_type": "code",
   "execution_count": null,
   "metadata": {
    "collapsed": true
   },
   "outputs": [],
   "source": []
  }
 ],
 "metadata": {
  "kernelspec": {
   "display_name": "Python 2",
   "language": "python",
   "name": "python2"
  },
  "language_info": {
   "codemirror_mode": {
    "name": "ipython",
    "version": 2
   },
   "file_extension": ".py",
   "mimetype": "text/x-python",
   "name": "python",
   "nbconvert_exporter": "python",
   "pygments_lexer": "ipython2",
   "version": "2.7.12"
  }
 },
 "nbformat": 4,
 "nbformat_minor": 0
}
