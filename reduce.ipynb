{
 "cells": [
  {
   "cell_type": "code",
   "execution_count": 1,
   "metadata": {
    "collapsed": true
   },
   "outputs": [],
   "source": [
    "import numpy as np\n",
    "from sklearn import datasets\n",
    "from sklearn.model_selection import train_test_split\n",
    "from sklearn.ensemble import RandomForestClassifier\n",
    "from sklearn.neural_network import MLPClassifier\n",
    "from sklearn.decomposition import PCA\n",
    "import pandas as pd\n",
    "import time"
   ]
  },
  {
   "cell_type": "markdown",
   "metadata": {},
   "source": [
    "## Reducing the Breast Cancer Dataset\n",
    "Loading the Breast Cancer Dataset"
   ]
  },
  {
   "cell_type": "code",
   "execution_count": 42,
   "metadata": {
    "collapsed": false
   },
   "outputs": [],
   "source": [
    "data_cancer = datasets.load_breast_cancer()\n",
    "\n",
    "X_c = data_cancer.data\n",
    "Y_c = data_cancer.target\n",
    "\n",
    "#Splitting into Train and Test Set for the original dataset\n",
    "Xc_train, Xc_test, Yc_train, Yc_test = train_test_split(X_c, Y_c, test_size = .3)"
   ]
  },
  {
   "cell_type": "markdown",
   "metadata": {},
   "source": [
    "To Reduce the Breast Cancer dataset, we are going to use the Random Forest Classifier. If you look at the dataset, each data point is a real valued number and the target of the dataset is a bool (cancer or no cancer). This is the type of dataset that Random Forest can handle well."
   ]
  },
  {
   "cell_type": "code",
   "execution_count": 43,
   "metadata": {
    "collapsed": false
   },
   "outputs": [],
   "source": [
    "RFCc = RandomForestClassifier()\n",
    "RFCc.fit(X_c, Y_c)\n",
    "CFI = RFCc.feature_importances_\n",
    "cfi = CFI.copy()\n",
    "\n",
    "#getting the top quarter of the features\n",
    "quarterc = []\n",
    "for i in range(len(cfi)/4):\n",
    "    sort_cfi = sorted(cfi)\n",
    "    quarterc.append(sort_cfi[len(sort_cfi)-1 - i])\n",
    "    \n",
    "#getting the arguments of the top quarter\n",
    "argc = []\n",
    "for j in quarterc:\n",
    "    argc.append(CFI.tolist().index(j))\n",
    "newX_c = X_c[:, argc]\n",
    "\n",
    "#Splitting into Train and Test Set for the reduced dataset\n",
    "newXc_train = train_test_split(newX_c, Y_c, test_size = .3)[0]\n",
    "newXc_test = train_test_split(newX_c, Y_c, test_size = .3)[1]"
   ]
  },
  {
   "cell_type": "markdown",
   "metadata": {},
   "source": [
    "Finding the runtime and the accuracy of the Original Cancer Dataset using MLP."
   ]
  },
  {
   "cell_type": "code",
   "execution_count": 44,
   "metadata": {
    "collapsed": false
   },
   "outputs": [
    {
     "name": "stdout",
     "output_type": "stream",
     "text": [
      "Accuracy on original cancer dataset is \t\t0.707602339181\n",
      "Runtime of MLP on original cancer dataset \t0.0309998989105\n"
     ]
    }
   ],
   "source": [
    "begin = time.time()\n",
    "MLP_oc = MLPClassifier()\n",
    "MLP_oc.fit(Xc_train, Yc_train)\n",
    "Yc_predict = MLP_oc.predict(Xc_test)\n",
    "print \"Accuracy on original cancer dataset is \\t\\t\" + str(MLP_oc.score(Xc_test, Yc_test))\n",
    "end = time.time()\n",
    "print \"Runtime of MLP on original cancer dataset \\t\" + str(end - begin)"
   ]
  },
  {
   "cell_type": "markdown",
   "metadata": {},
   "source": [
    "Finding the runtime and the accuracy of the Reduced Cancer Dataset using MLP."
   ]
  },
  {
   "cell_type": "code",
   "execution_count": 45,
   "metadata": {
    "collapsed": false
   },
   "outputs": [
    {
     "name": "stdout",
     "output_type": "stream",
     "text": [
      "Accuracy on reduced cancer dataset is \t\t0.415204678363\n",
      "Runtime of MLP on reduced cancer dataset \t0.0130000114441\n"
     ]
    }
   ],
   "source": [
    "begin = time.time()\n",
    "MLP_rc = MLPClassifier()\n",
    "MLP_rc.fit(newXc_train, Yc_train)\n",
    "\n",
    "print \"Accuracy on reduced cancer dataset is \\t\\t\" + str(MLP_rc.score(newXc_test, Yc_test))\n",
    "end = time.time()\n",
    "print \"Runtime of MLP on reduced cancer dataset \\t\" + str(end - begin)"
   ]
  },
  {
   "cell_type": "markdown",
   "metadata": {},
   "source": [
    "## Reducing the Digit Dataset\n",
    "Loading the Digit Dataset"
   ]
  },
  {
   "cell_type": "code",
   "execution_count": 46,
   "metadata": {
    "collapsed": true
   },
   "outputs": [],
   "source": [
    "data_digits = datasets.load_digits()\n",
    "\n",
    "X_d = data_digits.data\n",
    "Y_d = data_digits.target\n",
    "\n",
    "Xd_train, Xd_test, Yd_train, Yd_test = train_test_split(X_d, Y_d, test_size = .3, random_state= 42)"
   ]
  },
  {
   "cell_type": "markdown",
   "metadata": {},
   "source": [
    "Using Random Forest on this a reduced version of the Digit Dataset would give you 10% or less accuracy, because this dataset is made of images. What Random Forest would do on this dataset is pick out the pixels with the best luminance, which is not what we're looking for. Here we use PCA and .fit_transform to reduce the dimensionality of the dataset and get more accurate results."
   ]
  },
  {
   "cell_type": "code",
   "execution_count": 55,
   "metadata": {
    "collapsed": false
   },
   "outputs": [],
   "source": [
    "PCAd = PCA()\n",
    "PCAd.n_components = X_d.shape[1]/4.\n",
    "newX_d = PCAd.fit_transform(X_d)\n",
    "\n",
    "newXd_train = train_test_split(newX_d, Y_d, test_size = .3, random_state= 42)[0]\n",
    "newXd_test = train_test_split(newX_d, Y_d, test_size = .3, random_state= 42)[1]"
   ]
  },
  {
   "cell_type": "markdown",
   "metadata": {},
   "source": [
    "Finding the runtime and the accuracy of the Original Digit Dataset using MLP."
   ]
  },
  {
   "cell_type": "code",
   "execution_count": 48,
   "metadata": {
    "collapsed": false
   },
   "outputs": [
    {
     "name": "stdout",
     "output_type": "stream",
     "text": [
      "Accuracy on original digit dataset is \t\t0.975925925926\n",
      "Runtime of MLP on original digit dataset \t1.20499992371\n"
     ]
    }
   ],
   "source": [
    "begin = time.time()\n",
    "MLP_od = MLPClassifier()\n",
    "MLP_od.fit(Xd_train, Yd_train)\n",
    "Yd_predict = MLP_od.predict(Xd_test)\n",
    "\n",
    "print \"Accuracy on original digit dataset is \\t\\t\" + str(MLP_od.score(Xd_test, Yd_test))\n",
    "end = time.time()\n",
    "print \"Runtime of MLP on original digit dataset \\t\" + str(end - begin)"
   ]
  },
  {
   "cell_type": "markdown",
   "metadata": {},
   "source": [
    "Finding the runtime and the accuracy of the Reduced Digit Dataset using MLP."
   ]
  },
  {
   "cell_type": "code",
   "execution_count": 49,
   "metadata": {
    "collapsed": false
   },
   "outputs": [
    {
     "name": "stdout",
     "output_type": "stream",
     "text": [
      "Accuracy on reduced digit dataset is \t\t0.981481481481\n",
      "Runtime of MLP on reduced digit dataset \t0.94000005722\n"
     ]
    }
   ],
   "source": [
    "begin = time.time()\n",
    "MLP_rd = MLPClassifier()\n",
    "MLP_rd.fit(newXd_train, Yd_train)\n",
    "\n",
    "print \"Accuracy on reduced digit dataset is \\t\\t\" + str(MLP_rd.score(newXd_test, Yd_test))\n",
    "end = time.time()\n",
    "print \"Runtime of MLP on reduced digit dataset \\t\" + str(end - begin)"
   ]
  },
  {
   "cell_type": "markdown",
   "metadata": {},
   "source": [
    "## Reducing the Olivetti Faces Dataset\n",
    "Loading the Olivetti Dataset"
   ]
  },
  {
   "cell_type": "code",
   "execution_count": 50,
   "metadata": {
    "collapsed": true
   },
   "outputs": [],
   "source": [
    "data_faces = datasets.fetch_olivetti_faces()\n",
    "\n",
    "X_f = data_faces.data\n",
    "Y_f = data_faces.target\n",
    "\n",
    "Xf_train, Xf_test, Yf_train, Yf_test = train_test_split(X_f, Y_f, test_size = .3, random_state= 42)"
   ]
  },
  {
   "cell_type": "markdown",
   "metadata": {},
   "source": [
    "Here we also use PCA to reducing the Olivetti Faces Dataset, because the dataset is made of images. Pca will treat each image as a matrix and use SVD to transform the original dataset to obtain a k-dimensional (where k is the number of eigenvecctors) feature subspace."
   ]
  },
  {
   "cell_type": "code",
   "execution_count": 51,
   "metadata": {
    "collapsed": false
   },
   "outputs": [
    {
     "name": "stderr",
     "output_type": "stream",
     "text": [
      "C:\\Users\\clmeha\\Anaconda2\\lib\\site-packages\\sklearn\\decomposition\\pca.py:418: VisibleDeprecationWarning: using a non-integer number instead of an integer will result in an error in the future\n",
      "  self.components_ = components_[:n_components]\n",
      "C:\\Users\\clmeha\\Anaconda2\\lib\\site-packages\\sklearn\\decomposition\\pca.py:420: VisibleDeprecationWarning: using a non-integer number instead of an integer will result in an error in the future\n",
      "  self.explained_variance_ = explained_variance_[:n_components]\n",
      "C:\\Users\\clmeha\\Anaconda2\\lib\\site-packages\\sklearn\\decomposition\\pca.py:422: VisibleDeprecationWarning: using a non-integer number instead of an integer will result in an error in the future\n",
      "  explained_variance_ratio_[:n_components]\n"
     ]
    }
   ],
   "source": [
    "PCAf = PCA()\n",
    "PCAf.n_components = X_f.shape[1]/4.\n",
    "newX_f = PCAf.fit_transform(X_f)\n",
    "\n",
    "newXf_train = train_test_split(newX_f, Y_f, test_size = .3, random_state= 42)[0]\n",
    "newXf_test = train_test_split(newX_f, Y_f, test_size = .3, random_state= 42)[1]"
   ]
  },
  {
   "cell_type": "markdown",
   "metadata": {},
   "source": [
    "Finding the runtime and the accuracy of the Original Faces Dataset using MLP."
   ]
  },
  {
   "cell_type": "code",
   "execution_count": 54,
   "metadata": {
    "collapsed": false
   },
   "outputs": [
    {
     "name": "stdout",
     "output_type": "stream",
     "text": [
      "Accuracy on original faces dataset is \t\t0.833333333333\n",
      "Runtime of MLP on original faces dataset \t16.8499999046\n"
     ]
    }
   ],
   "source": [
    "begin = time.time()\n",
    "MLP_of = MLPClassifier()\n",
    "MLP_of.fit(Xf_train, Yf_train)\n",
    "Yf_predict = MLP_of.predict(Xf_test)\n",
    "print \"Accuracy on original faces dataset is \\t\\t\" + str(MLP_of.score(Xf_test, Yf_test))\n",
    "end = time.time()\n",
    "print \"Runtime of MLP on original faces dataset \\t\" + str(end - begin)"
   ]
  },
  {
   "cell_type": "markdown",
   "metadata": {},
   "source": [
    "Finding the runtime and the accuracy of the Reduced Faces Dataset using MLP."
   ]
  },
  {
   "cell_type": "code",
   "execution_count": 53,
   "metadata": {
    "collapsed": false
   },
   "outputs": [
    {
     "name": "stdout",
     "output_type": "stream",
     "text": [
      "Accuracy on reduced faces dataset is \t\t0.891666666667\n",
      "Runtime of MLP on reduced faces dataset \t1.20000004768\n"
     ]
    }
   ],
   "source": [
    "begin = time.time()\n",
    "MLP_rf = MLPClassifier()\n",
    "MLP_rf.fit(newXf_train, Yf_train)\n",
    "\n",
    "print \"Accuracy on reduced faces dataset is \\t\\t\" + str(MLP_rf.score(newXf_test, Yf_test))\n",
    "end = time.time()\n",
    "print \"Runtime of MLP on reduced faces dataset \\t\" + str(end - begin)"
   ]
  },
  {
   "cell_type": "code",
   "execution_count": null,
   "metadata": {
    "collapsed": true
   },
   "outputs": [],
   "source": []
  }
 ],
 "metadata": {
  "kernelspec": {
   "display_name": "Python 2",
   "language": "python",
   "name": "python2"
  },
  "language_info": {
   "codemirror_mode": {
    "name": "ipython",
    "version": 2
   },
   "file_extension": ".py",
   "mimetype": "text/x-python",
   "name": "python",
   "nbconvert_exporter": "python",
   "pygments_lexer": "ipython2",
   "version": "2.7.12"
  }
 },
 "nbformat": 4,
 "nbformat_minor": 0
}
